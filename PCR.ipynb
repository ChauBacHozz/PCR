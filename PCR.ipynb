{
 "cells": [
  {
   "cell_type": "markdown",
   "id": "ce53095f",
   "metadata": {},
   "source": [
    "# Principal Component Regression on Wine Quality\n",
    "Author: Kenneth Leung"
   ]
  },
  {
   "cell_type": "markdown",
   "id": "5a016e65",
   "metadata": {},
   "source": [
    "### Import data and libraries"
   ]
  },
  {
   "cell_type": "code",
   "execution_count": 64,
   "id": "8336af28",
   "metadata": {},
   "outputs": [],
   "source": [
    "import numpy as np\n",
    "import pandas as pd\n",
    "import matplotlib.pyplot as plt\n",
    "\n",
    "from sklearn.preprocessing import scale \n",
    "from sklearn.linear_model import LinearRegression, Ridge, RidgeCV, Lasso, LassoCV\n",
    "from sklearn.model_selection import KFold, cross_val_score, train_test_split\n",
    "from sklearn.metrics import mean_squared_error\n",
    "from sklearn.decomposition import PCA"
   ]
  },
  {
   "cell_type": "code",
   "execution_count": 65,
   "id": "b4ef0d70",
   "metadata": {},
   "outputs": [],
   "source": [
    "df = pd.read_excel('MTND2.xlsx').values\n",
    "# df.head()"
   ]
  },
  {
   "cell_type": "markdown",
   "id": "593f88fe",
   "metadata": {},
   "source": [
    "### Data Preparation"
   ]
  },
  {
   "cell_type": "code",
   "execution_count": 66,
   "id": "76fc452b",
   "metadata": {},
   "outputs": [],
   "source": [
    "X = df[:, 4:]\n",
    "y = df[:, 1:4]"
   ]
  },
  {
   "cell_type": "markdown",
   "id": "414962ae",
   "metadata": {},
   "source": [
    "#### Train test split"
   ]
  },
  {
   "cell_type": "code",
   "execution_count": 67,
   "id": "2b42fcf2",
   "metadata": {},
   "outputs": [],
   "source": [
    "X_train, X_test, y_train, y_test = train_test_split(X, y, test_size=0.2, random_state=42)"
   ]
  },
  {
   "cell_type": "code",
   "execution_count": 68,
   "id": "ab1091a8",
   "metadata": {},
   "outputs": [
    {
     "data": {
      "text/plain": [
       "(24, 7)"
      ]
     },
     "execution_count": 68,
     "metadata": {},
     "output_type": "execute_result"
    }
   ],
   "source": [
    "X_train.shape"
   ]
  },
  {
   "cell_type": "code",
   "execution_count": 69,
   "id": "d1c469d3",
   "metadata": {},
   "outputs": [],
   "source": [
    "# Run standardization on X variables\n",
    "X_train_scaled, X_test_scaled = scale(X_train), scale(X_test)"
   ]
  },
  {
   "cell_type": "markdown",
   "id": "5e230eef",
   "metadata": {},
   "source": [
    "___\n",
    "### Principal Components Regression"
   ]
  },
  {
   "cell_type": "markdown",
   "id": "a742cc4a",
   "metadata": {},
   "source": [
    "#### Evaluate for different number of principal components"
   ]
  },
  {
   "cell_type": "code",
   "execution_count": 70,
   "id": "900cf52f",
   "metadata": {},
   "outputs": [],
   "source": [
    "lin_reg = LinearRegression()\n",
    "rmse_list = []"
   ]
  },
  {
   "cell_type": "code",
   "execution_count": 71,
   "id": "876ec69f",
   "metadata": {},
   "outputs": [
    {
     "data": {
      "text/plain": [
       "(24, 7)"
      ]
     },
     "execution_count": 71,
     "metadata": {},
     "output_type": "execute_result"
    }
   ],
   "source": [
    "# First generate all the principal components\n",
    "pca = PCA()\n",
    "X_train_pc = pca.fit_transform(X_train_scaled)\n",
    "X_train_pc.shape"
   ]
  },
  {
   "cell_type": "code",
   "execution_count": 72,
   "id": "24c15c57",
   "metadata": {},
   "outputs": [
    {
     "data": {
      "text/plain": [
       "array([9.51646035e-01, 4.13184724e-02, 6.72192059e-03, 3.11668980e-04,\n",
       "       8.07322777e-07, 6.96754589e-07, 3.98656092e-07])"
      ]
     },
     "execution_count": 72,
     "metadata": {},
     "output_type": "execute_result"
    }
   ],
   "source": [
    "# View explained variance ratio for each principal component\n",
    "pca.explained_variance_ratio_"
   ]
  },
  {
   "cell_type": "code",
   "execution_count": 73,
   "id": "1ca83e36",
   "metadata": {},
   "outputs": [
    {
     "data": {
      "text/html": [
       "<div>\n",
       "<style scoped>\n",
       "    .dataframe tbody tr th:only-of-type {\n",
       "        vertical-align: middle;\n",
       "    }\n",
       "\n",
       "    .dataframe tbody tr th {\n",
       "        vertical-align: top;\n",
       "    }\n",
       "\n",
       "    .dataframe thead th {\n",
       "        text-align: right;\n",
       "    }\n",
       "</style>\n",
       "<table border=\"1\" class=\"dataframe\">\n",
       "  <thead>\n",
       "    <tr style=\"text-align: right;\">\n",
       "      <th></th>\n",
       "      <th>0</th>\n",
       "      <th>1</th>\n",
       "      <th>2</th>\n",
       "      <th>3</th>\n",
       "      <th>4</th>\n",
       "      <th>5</th>\n",
       "      <th>6</th>\n",
       "    </tr>\n",
       "  </thead>\n",
       "  <tbody>\n",
       "    <tr>\n",
       "      <th>0</th>\n",
       "      <td>0.377549</td>\n",
       "      <td>-0.327373</td>\n",
       "      <td>0.635448</td>\n",
       "      <td>-0.452182</td>\n",
       "      <td>0.047331</td>\n",
       "      <td>0.373852</td>\n",
       "      <td>0.003906</td>\n",
       "    </tr>\n",
       "    <tr>\n",
       "      <th>1</th>\n",
       "      <td>0.383439</td>\n",
       "      <td>-0.256537</td>\n",
       "      <td>0.179157</td>\n",
       "      <td>0.131744</td>\n",
       "      <td>-0.485554</td>\n",
       "      <td>-0.694089</td>\n",
       "      <td>-0.142081</td>\n",
       "    </tr>\n",
       "    <tr>\n",
       "      <th>2</th>\n",
       "      <td>0.384818</td>\n",
       "      <td>-0.213887</td>\n",
       "      <td>-0.047466</td>\n",
       "      <td>0.293731</td>\n",
       "      <td>0.673387</td>\n",
       "      <td>-0.230022</td>\n",
       "      <td>0.459648</td>\n",
       "    </tr>\n",
       "    <tr>\n",
       "      <th>3</th>\n",
       "      <td>0.385810</td>\n",
       "      <td>-0.137268</td>\n",
       "      <td>-0.241113</td>\n",
       "      <td>0.337847</td>\n",
       "      <td>0.174979</td>\n",
       "      <td>0.294177</td>\n",
       "      <td>-0.736800</td>\n",
       "    </tr>\n",
       "    <tr>\n",
       "      <th>4</th>\n",
       "      <td>0.386127</td>\n",
       "      <td>-0.058191</td>\n",
       "      <td>-0.349338</td>\n",
       "      <td>0.192611</td>\n",
       "      <td>-0.516896</td>\n",
       "      <td>0.446364</td>\n",
       "      <td>0.471127</td>\n",
       "    </tr>\n",
       "  </tbody>\n",
       "</table>\n",
       "</div>"
      ],
      "text/plain": [
       "          0         1         2         3         4         5         6\n",
       "0  0.377549 -0.327373  0.635448 -0.452182  0.047331  0.373852  0.003906\n",
       "1  0.383439 -0.256537  0.179157  0.131744 -0.485554 -0.694089 -0.142081\n",
       "2  0.384818 -0.213887 -0.047466  0.293731  0.673387 -0.230022  0.459648\n",
       "3  0.385810 -0.137268 -0.241113  0.337847  0.174979  0.294177 -0.736800\n",
       "4  0.386127 -0.058191 -0.349338  0.192611 -0.516896  0.446364  0.471127"
      ]
     },
     "execution_count": 73,
     "metadata": {},
     "output_type": "execute_result"
    }
   ],
   "source": [
    "# View first 5 rows of all principal components\n",
    "pd.DataFrame(pca.components_.T).loc[:4,:]"
   ]
  },
  {
   "cell_type": "code",
   "execution_count": 74,
   "id": "1556bfa8",
   "metadata": {},
   "outputs": [],
   "source": [
    "cv = KFold(n_splits=10, shuffle=True, random_state=42)\n"
   ]
  },
  {
   "cell_type": "code",
   "execution_count": 75,
   "id": "7eb75aad",
   "metadata": {},
   "outputs": [],
   "source": [
    "# Loop through different count of principal components for linear regression\n",
    "for i in range(1, X_train_pc.shape[1]+1):\n",
    "    rmse_score = -1 * cross_val_score(lin_reg, \n",
    "                                      X_train_pc[:,:i], # Use first k principal components\n",
    "                                      y_train, \n",
    "                                      cv=cv, \n",
    "                                      scoring='neg_mean_squared_error').mean()\n",
    "    rmse_list.append(rmse_score)"
   ]
  },
  {
   "cell_type": "code",
   "execution_count": 76,
   "id": "04b6abd6",
   "metadata": {},
   "outputs": [
    {
     "data": {
      "text/plain": [
       "[0.35732304008900256,\n",
       " 0.20269102601416691,\n",
       " 0.09122619933400619,\n",
       " 0.02509379902340131,\n",
       " 0.02465246476219931,\n",
       " 0.025469263323585282,\n",
       " 0.026689853878788]"
      ]
     },
     "execution_count": 76,
     "metadata": {},
     "output_type": "execute_result"
    }
   ],
   "source": [
    "rmse_list"
   ]
  },
  {
   "cell_type": "code",
   "execution_count": 77,
   "id": "b2c4771c",
   "metadata": {
    "scrolled": true
   },
   "outputs": [
    {
     "data": {
      "text/plain": [
       "([<matplotlib.axis.XTick at 0x2d45e832ef0>,\n",
       "  <matplotlib.axis.XTick at 0x2d45e832050>,\n",
       "  <matplotlib.axis.XTick at 0x2d45e87b5e0>,\n",
       "  <matplotlib.axis.XTick at 0x2d45e90cd90>,\n",
       "  <matplotlib.axis.XTick at 0x2d45e90d4e0>,\n",
       "  <matplotlib.axis.XTick at 0x2d45e90dc30>,\n",
       "  <matplotlib.axis.XTick at 0x2d45e90e3b0>],\n",
       " [Text(0, 0, '1'),\n",
       "  Text(1, 0, '2'),\n",
       "  Text(2, 0, '3'),\n",
       "  Text(3, 0, '4'),\n",
       "  Text(4, 0, '5'),\n",
       "  Text(5, 0, '6'),\n",
       "  Text(6, 0, '7')])"
      ]
     },
     "execution_count": 77,
     "metadata": {},
     "output_type": "execute_result"
    },
    {
     "data": {
      "image/png": "[encoded data removed]",
      "text/plain": [
       "<Figure size 432x288 with 1 Axes>"
      ]
     },
     "metadata": {
      "needs_background": "light"
     },
     "output_type": "display_data"
    }
   ],
   "source": [
    "# Plot RMSE vs count of principal components used\n",
    "plt.plot(rmse_list, '-o')\n",
    "plt.xlabel('Number of principal components in regression')\n",
    "plt.ylabel('Cross-Validation RMSE')\n",
    "plt.title('PCR')\n",
    "plt.xlim(xmin=-1);\n",
    "plt.xticks(np.arange(X_train_pc.shape[1]), np.arange(1, X_train_pc.shape[1]+1))\n",
    "# plt.axhline(y=lr_score_train, color='g', linestyle='-');"
   ]
  },
  {
   "cell_type": "code",
   "execution_count": 78,
   "id": "2496f10d",
   "metadata": {},
   "outputs": [],
   "source": [
    "# Visually determine optimal number of principal components\n",
    "best_pc_num = 4"
   ]
  },
  {
   "cell_type": "markdown",
   "id": "e3a5900b",
   "metadata": {},
   "source": [
    "#### Predict"
   ]
  },
  {
   "cell_type": "code",
   "execution_count": 79,
   "id": "6ce87168",
   "metadata": {},
   "outputs": [],
   "source": [
    "# Train model on training set\n",
    "lin_reg_pc = LinearRegression().fit(X_train_pc[:,:best_pc_num], y_train)"
   ]
  },
  {
   "cell_type": "code",
   "execution_count": 80,
   "id": "3b389700",
   "metadata": {},
   "outputs": [
    {
     "data": {
      "text/plain": [
       "0.9843509739507725"
      ]
     },
     "execution_count": 80,
     "metadata": {},
     "output_type": "execute_result"
    }
   ],
   "source": [
    "# Get R2 score\n",
    "lin_reg_pc.score(X_train_pc[:,:best_pc_num], y_train)"
   ]
  },
  {
   "cell_type": "code",
   "execution_count": 81,
   "id": "d74c6e3d",
   "metadata": {},
   "outputs": [
    {
     "data": {
      "text/plain": [
       "0.12566930706324253"
      ]
     },
     "execution_count": 81,
     "metadata": {},
     "output_type": "execute_result"
    }
   ],
   "source": [
    "pcr_score_train = -1 * cross_val_score(lin_reg_pc, \n",
    "                                       X_train_pc[:,:best_pc_num], \n",
    "                                       y_train, \n",
    "                                       cv=cv, \n",
    "                                       scoring='neg_root_mean_squared_error').mean()\n",
    "pcr_score_train"
   ]
  },
  {
   "cell_type": "code",
   "execution_count": 82,
   "id": "2a98f2c7",
   "metadata": {},
   "outputs": [
    {
     "data": {
      "text/plain": [
       "(7, 4)"
      ]
     },
     "execution_count": 82,
     "metadata": {},
     "output_type": "execute_result"
    }
   ],
   "source": [
    "# Get principal components of test set\n",
    "X_test_pc = pca.transform(X_test_scaled)[:,:best_pc_num]\n",
    "X_test_pc.shape"
   ]
  },
  {
   "cell_type": "code",
   "execution_count": 83,
   "id": "7b599740",
   "metadata": {},
   "outputs": [
    {
     "data": {
      "text/plain": [
       "0.8652916521757689"
      ]
     },
     "execution_count": 83,
     "metadata": {},
     "output_type": "execute_result"
    }
   ],
   "source": [
    "# Predict on test data\n",
    "preds = lin_reg_pc.predict(X_test_pc)\n",
    "pcr_score_test = mean_squared_error(y_test, preds, squared=False)\n",
    "pcr_score_test"
   ]
  }
 ],
 "metadata": {
  "kernelspec": {
   "display_name": "Python 3",
   "language": "python",
   "name": "python3"
  },
  "language_info": {
   "codemirror_mode": {
    "name": "ipython",
    "version": 3
   },
   "file_extension": ".py",
   "mimetype": "text/x-python",
   "name": "python",
   "nbconvert_exporter": "python",
   "pygments_lexer": "ipython3",
   "version": "3.10.6"
  },
  "vscode": {
   "interpreter": {
    "hash": "1658d7c139ecb4375ab76a4a9bda7b71499aefd554bc284ea3c47687afb5394a"
   }
  }
 },
 "nbformat": 4,
 "nbformat_minor": 5
}
